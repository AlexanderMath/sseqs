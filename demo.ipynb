{
 "cells": [
  {
   "cell_type": "code",
   "execution_count": null,
   "id": "40d8edb1",
   "metadata": {},
   "outputs": [
    {
     "name": "stdout",
     "output_type": "stream",
     "text": [
      "ninja: no work to do.\n",
      "ninja: no work to do.\n",
      "ninja: no work to do.\n"
     ]
    },
    {
     "name": "stderr",
     "output_type": "stream",
     "text": [
      "Initializing pinned RAM: 100%|██████████| 90/90 [01:01<00:00,  1.47it/s]\n",
      "Reading 90GB from `uniref30_2302_bfd_mgy_colabfold.xbit` to pinned RAM: 100%|██████████| 90/90 [01:44<00:00,  1.16s/it]\n",
      "db_len=478 q_len=263 matches=3600 max(SW)=1348 max(fft)=1: 100%|██████████| 90/90 [00:08<00:00, 10.70GB/s]\n"
     ]
    },
    {
     "name": "stdout",
     "output_type": "stream",
     "text": [
      "Saving result to msa.a3m\n"
     ]
    }
   ],
   "source": [
    "# first call loads dataset to RAM in ~3min\n",
    "import os\n",
    "os.environ['CHUNKS'] = str(90)\n",
    "os.environ['DBPATH'] = '/mnt/ssd/sseqs/xbit/uniref30_2302_bfd_mgy_colabfold.xbit'\n",
    "\n",
    "# with everything in RAM, build MSA in ~8s\n",
    "from sseqs import msa\n",
    "msa(\n",
    "    \"HPETLVKVKDAEDQLGARVGYIELDLNSGKILESFRPEERFPMMSTFKVLLCGAVLSRIDAGQEQLGRRIHYSQNDLVEYSPVTEKHLTDGMTVRELCSAAITMSDNTAANLLLTTIGGPKELTAFLHNMGDHVTRLDRWEPELNEAIPNDERDTTMPVAMATTLRKLLTGELLTLASRQQLIDWMEADKVAGPLLRSALPAGWFIADKSGAGERGSRGIIAALGPDGKPSRIVVIYTTGSQATMDERNRQIAEIGASLIKHW\",\n",
    "    \"msa.a3m\"\n",
    ")"
   ]
  },
  {
   "cell_type": "code",
   "execution_count": null,
   "id": "793b977c",
   "metadata": {},
   "outputs": [
    {
     "name": "stderr",
     "output_type": "stream",
     "text": [
      "db_len=478 q_len=263 matches=3600 max(SW)=1348 max(fft)=1: 100%|██████████| 90/90 [00:08<00:00, 11.13GB/s]\n"
     ]
    },
    {
     "name": "stdout",
     "output_type": "stream",
     "text": [
      "Saving result to msa.a3m\n"
     ]
    }
   ],
   "source": [
    "# MSA takes ~8s\n",
    "from sseqs import msa\n",
    "msa(\n",
    "    \"HPETLVKVKDAEDQLGARVGYIELDLNSGKILESFRPEERFPMMSTFKVLLCGAVLSRIDAGQEQLGRRIHYSQNDLVEYSPVTEKHLTDGMTVRELCSAAITMSDNTAANLLLTTIGGPKELTAFLHNMGDHVTRLDRWEPELNEAIPNDERDTTMPVAMATTLRKLLTGELLTLASRQQLIDWMEADKVAGPLLRSALPAGWFIADKSGAGERGSRGIIAALGPDGKPSRIVVIYTTGSQATMDERNRQIAEIGASLIKHW\",\n",
    "    \"msa.a3m\"\n",
    ")"
   ]
  }
 ],
 "metadata": {
  "kernelspec": {
   "display_name": "sseqs",
   "language": "python",
   "name": "python3"
  },
  "language_info": {
   "codemirror_mode": {
    "name": "ipython",
    "version": 3
   },
   "file_extension": ".py",
   "mimetype": "text/x-python",
   "name": "python",
   "nbconvert_exporter": "python",
   "pygments_lexer": "ipython3",
   "version": "3.11.0"
  }
 },
 "nbformat": 4,
 "nbformat_minor": 5
}
